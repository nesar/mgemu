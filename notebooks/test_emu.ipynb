{
 "cells": [
  {
   "cell_type": "markdown",
   "metadata": {},
   "source": [
    "# Gaussian Process Emulator for the summary statistics $r(k; \\theta)$\n",
    "\n",
    "## $r(k) = P_{MG}(k) /P_{LCDM}(k)$ is the ratio of Dark matter power spectra in Modified Gravity Cosmology and $\\Lambda$CDM Cosmology respectively.\n",
    "\n",
    "### The cosmological paramters currently supported are $\\theta = \\{\\Omega_m, n_s, \\sigma_8, f_{R_0}, n\\}$\n"
   ]
  },
  {
   "cell_type": "code",
   "execution_count": 1,
   "metadata": {},
   "outputs": [],
   "source": [
    "from mgemu import emu\n",
    "import numpy as np\n",
    "import matplotlib.pylab as plt"
   ]
  },
  {
   "cell_type": "markdown",
   "metadata": {},
   "source": [
    "### The emulator requires loading 2 trained models:\n",
    "### 1. PCA decomposition \n",
    "### 2. Gaussian Process interpolation\n",
    "\n",
    "The Sample models below are trained for $z=0.01999$. Other models will be updated soon (and a $z$ dependence in the emulator will be implemented as well)"
   ]
  },
  {
   "cell_type": "code",
   "execution_count": 10,
   "metadata": {},
   "outputs": [
    {
     "data": {
      "text/plain": [
       "(<gpflow.models.gpr.GPR at 0x1a375209b0>,\n",
       " PCA(copy=True, iterated_power='auto', n_components=16, random_state=None,\n",
       "     svd_solver='auto', tol=0.0, whiten=False))"
      ]
     },
     "execution_count": 10,
     "metadata": {},
     "output_type": "execute_result"
    }
   ],
   "source": [
    "mgCosmo = emu()\n",
    "mgCosmo.load_models(GPmodelFile='models/GPflow_model', PCAmodelFile='models/PCA_model')"
   ]
  },
  {
   "cell_type": "markdown",
   "metadata": {},
   "source": [
    "### Sample calling the emulator for a given cosmology $\\{\\Omega_m, n_s, \\sigma_8, f_{R_0}, n\\}$"
   ]
  },
  {
   "cell_type": "code",
   "execution_count": 11,
   "metadata": {},
   "outputs": [],
   "source": [
    "paraCosmos = np.array([0.14, 0.88, 0.8, 1e-6, 2]) # Test cosmology parameters\n",
    "ks, rCosmo = mgCosmo.emulate(paraCosmos) # power spectra ratio"
   ]
  },
  {
   "cell_type": "code",
   "execution_count": 15,
   "metadata": {},
   "outputs": [
    {
     "data": {
      "image/png": "[encoded data removed]",
      "text/plain": [
       "<Figure size 432x288 with 1 Axes>"
      ]
     },
     "metadata": {
      "needs_background": "light"
     },
     "output_type": "display_data"
    }
   ],
   "source": [
    "plt.plot(ks, rCosmo)\n",
    "plt.yscale('log')"
   ]
  },
  {
   "cell_type": "code",
   "execution_count": 16,
   "metadata": {},
   "outputs": [
    {
     "name": "stdout",
     "output_type": "stream",
     "text": [
      "4.35 ms ± 77.6 µs per loop (mean ± std. dev. of 7 runs, 100 loops each)\n"
     ]
    }
   ],
   "source": [
    "%timeit mgCosmo.emulate(paraCosmos) "
   ]
  }
 ],
 "metadata": {
  "anaconda-cloud": {},
  "kernelspec": {
   "display_name": "Python [conda env:tf_gpu] *",
   "language": "python",
   "name": "conda-env-tf_gpu-py"
  },
  "language_info": {
   "codemirror_mode": {
    "name": "ipython",
    "version": 3
   },
   "file_extension": ".py",
   "mimetype": "text/x-python",
   "name": "python",
   "nbconvert_exporter": "python",
   "pygments_lexer": "ipython3",
   "version": "3.6.8"
  }
 },
 "nbformat": 4,
 "nbformat_minor": 2
}
