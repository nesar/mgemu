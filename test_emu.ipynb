{
 "cells": [
  {
   "cell_type": "markdown",
   "metadata": {},
   "source": [
    "# Gaussian Process Emulator for the summary statistics $r(k; \\theta)$\n",
    "\n",
    "## $r(k) = P_{MG}(k) /P_{LCDM}(k)$ is the ratio of Dark matter power spectra in Modified Gravity Cosmology and $\\Lambda$CDM Cosmology respectively.\n",
    "\n",
    "### The cosmological paramters currently supported are $\\theta = \\{\\Omega_m, n_s, \\sigma_8, f_{R_0}, n\\}$\n"
   ]
  },
  {
   "cell_type": "code",
   "execution_count": null,
   "metadata": {},
   "outputs": [],
   "source": [
    "from mgemu import emu\n",
    "import numpy as np\n",
    "import matplotlib.pylab as plt"
   ]
  },
  {
   "cell_type": "markdown",
   "metadata": {},
   "source": [
    "### The emulator requires loading 2 trained models:\n",
    "### 1. PCA decomposition \n",
    "### 2. Gaussian Process interpolation\n",
    "\n",
    "The Sample models below are trained for $z=0.01999$. Other models will be updated soon (and a $z$ dependence in the emulator will be implemented as well)"
   ]
  },
  {
   "cell_type": "code",
   "execution_count": null,
   "metadata": {},
   "outputs": [],
   "source": [
    "mgCosmo = emu()\n",
    "mgCosmo.load_models(GPmodelFile='models/GPflow_model', PCAmodelFile='models/PCA_model')"
   ]
  },
  {
   "cell_type": "markdown",
   "metadata": {},
   "source": [
    "### Sample calling the emulator for a given cosmology $\\{\\Omega_m, n_s, \\sigma_8, f_{R_0}, n\\}$"
   ]
  },
  {
   "cell_type": "code",
   "execution_count": null,
   "metadata": {},
   "outputs": [],
   "source": [
    "paraCosmos = np.array([0.14, 0.88, 0.8, 1e-6, 2]) # Test cosmology parameters\n",
    "ks, rCosmo = mgCosmo.emulate(paraCosmos) # power spectra ratio"
   ]
  },
  {
   "cell_type": "code",
   "execution_count": null,
   "metadata": {},
   "outputs": [],
   "source": [
    "plt.plot(ks, rCosmo)\n",
    "plt.yscale('log')"
   ]
  },
  {
   "cell_type": "code",
   "execution_count": null,
   "metadata": {},
   "outputs": [],
   "source": [
    "%timeit mgCosmo.emulate(paraCosmos) "
   ]
  }
 ],
 "metadata": {
  "anaconda-cloud": {},
  "kernelspec": {
   "display_name": "Python [conda env:tf_gpu] *",
   "language": "python",
   "name": "conda-env-tf_gpu-py"
  },
  "language_info": {
   "codemirror_mode": {
    "name": "ipython",
    "version": 3
   },
   "file_extension": ".py",
   "mimetype": "text/x-python",
   "name": "python",
   "nbconvert_exporter": "python",
   "pygments_lexer": "ipython3",
   "version": "3.6.8"
  }
 },
 "nbformat": 4,
 "nbformat_minor": 2
}
